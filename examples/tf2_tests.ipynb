{
 "cells": [
  {
   "cell_type": "code",
   "execution_count": 2,
   "metadata": {},
   "outputs": [],
   "source": [
    "import numpy as np\n",
    "import pandas as pd\n",
    "\n",
    "import matplotlib.pyplot as plt\n",
    "import seaborn as sns\n",
    "sns.set(context='talk', style='ticks',\n",
    "        color_codes=True, rc={'legend.frameon': False})"
   ]
  },
  {
   "cell_type": "code",
   "execution_count": 3,
   "metadata": {},
   "outputs": [],
   "source": [
    "solubility = pd.read_csv('../data/delaney.csv')"
   ]
  },
  {
   "cell_type": "code",
   "execution_count": 4,
   "metadata": {},
   "outputs": [],
   "source": [
    "# Split into train, dev, and test sets\n",
    "train = solubility.sample(frac=.8, random_state=1)\n",
    "valid = solubility[~solubility.index.isin(train.index)].sample(frac=.5, random_state=1)\n",
    "test = solubility[~solubility.index.isin(train.index) & ~solubility.index.isin(valid.index)]"
   ]
  },
  {
   "cell_type": "code",
   "execution_count": 5,
   "metadata": {},
   "outputs": [
    {
     "name": "stderr",
     "output_type": "stream",
     "text": [
      "100%|██████████| 902/902 [00:00<00:00, 1464.26it/s]\n",
      "100%|██████████| 113/113 [00:00<00:00, 1465.68it/s]\n"
     ]
    }
   ],
   "source": [
    "# Transform inputs into graph encodings\n",
    "from nfp.preprocessing import SmilesPreprocessor\n",
    "\n",
    "preprocessor = SmilesPreprocessor()\n",
    "train_inputs = preprocessor.fit(train.smiles)\n",
    "valid_inputs = preprocessor.predict(valid.smiles)"
   ]
  },
  {
   "cell_type": "code",
   "execution_count": 68,
   "metadata": {},
   "outputs": [],
   "source": [
    "# define keras model\n",
    "import tensorflow as tf\n",
    "from tensorflow.keras import layers\n",
    "\n",
    "class MessageBlock(layers.Layer):\n",
    "    \n",
    "    def __init__(self, atom_dimension):\n",
    "        super(MessageBlock, self).__init__()\n",
    "        self.atom_bn = layers.BatchNormalization()\n",
    "        self.bond_bn = layers.BatchNormalization()\n",
    "        self.bond_update_1 = layers.Dense(2*atom_dimension, activation='relu')\n",
    "        self.bond_update_2 = layers.Dense(atom_dimension)        \n",
    "        self.atom_update = layers.Dense(atom_dimension)\n",
    "        \n",
    "    def call(self, original_atom_state, original_bond_state, connectivity):\n",
    "        \n",
    "        # Batch norm on incoming layers\n",
    "        atom_state = self.atom_bn(original_atom_state)\n",
    "        bond_state = self.bond_bn(original_bond_state)\n",
    "        \n",
    "        # Gather atoms to bond dimension\n",
    "        target_atom = tf.gather(atom_state, connectivity[:, 0])        \n",
    "        source_atom = tf.gather(atom_state, connectivity[:, 1])\n",
    "\n",
    "        # Update bond states with source and target atom info\n",
    "        new_bond_state = tf.concat([source_atom, target_atom, bond_state], 1)\n",
    "        new_bond_state = self.bond_update_1(new_bond_state)\n",
    "        new_bond_state = self.bond_update_2(new_bond_state)       \n",
    "        \n",
    "        # Update atom states with neighboring bonds\n",
    "        source_atom = self.atom_update(source_atom)\n",
    "        messages = source_atom * new_bond_state\n",
    "        messages = tf.math.segment_sum(messages, connectivity[:, 0])\n",
    "        \n",
    "        # Add new states to their incoming values (residual connection)\n",
    "        bond_state = original_bond_state + new_bond_state\n",
    "        atom_state = original_atom_state + messages\n",
    "        \n",
    "        return atom_state, bond_state\n",
    "    \n",
    "\n",
    "class GraphNetwork(tf.keras.Model):\n",
    "    \n",
    "    def __init__(self, preprocessor, atom_dimension, num_messages):\n",
    "        super(GraphNetwork, self).__init__()\n",
    "        self.atom_embedding = layers.Embedding(\n",
    "            preprocessor.atom_classes, atom_dimension, name='atom_embedding')\n",
    "        self.atom_mean = layers.Embedding(\n",
    "            preprocessor.atom_classes, 1, name='atom_mean')        \n",
    "        self.bond_embedding = layers.Embedding(\n",
    "            preprocessor.bond_classes, atom_dimension, name='bond_embedding')\n",
    "        self.message_layers = [MessageBlock(atom_dimension) for _ in range(num_messages)]\n",
    "        self.output_atomwise_dense = layers.Dense(1)\n",
    "        self.dropout_layer = layers.Dropout(.5)\n",
    "\n",
    "    @tf.function(input_signature=[\n",
    "        tf.TensorSpec(shape=(None,), dtype=tf.int64),\n",
    "        tf.TensorSpec(shape=(None,), dtype=tf.int64),\n",
    "        tf.TensorSpec(shape=(None,), dtype=tf.int64),\n",
    "        tf.TensorSpec(shape=(None, 2), dtype=tf.int64),\n",
    "    ])\n",
    "    def call(self, atom_types, bond_types, node_graph_indices, connectivity):\n",
    "        \n",
    "        # Initialize the atom and bond embedding vectors\n",
    "        atom_state = self.atom_embedding(atom_types)\n",
    "        bond_state = self.bond_embedding(bond_types)\n",
    "        \n",
    "        # Perform the message passing\n",
    "        for message_layer in self.message_layers:\n",
    "            atom_state, bond_state = message_layer(atom_state, bond_state, connectivity)\n",
    "                    \n",
    "        atom_state = self.dropout_layer(atom_state)\n",
    "        \n",
    "        # Reduce atom to a single prediction\n",
    "        atom_solubility = self.output_atomwise_dense(atom_state) + self.atom_mean(atom_types)\n",
    "        \n",
    "        # Sum over all atoms in a mol\n",
    "        mol_solubility = tf.math.segment_mean(atom_solubility, node_graph_indices)\n",
    "            \n",
    "        return tf.squeeze(mol_solubility)"
   ]
  },
  {
   "cell_type": "code",
   "execution_count": 69,
   "metadata": {},
   "outputs": [],
   "source": [
    "from tqdm import tqdm\n",
    "import warnings"
   ]
  },
  {
   "cell_type": "code",
   "execution_count": 70,
   "metadata": {},
   "outputs": [
    {
     "name": "stdout",
     "output_type": "stream",
     "text": [
      "Epoch: 0\tTrain Loss: 2.353\tValid Loss: 1.632\n",
      "Epoch: 1\tTrain Loss: 1.972\tValid Loss: 1.555\n",
      "Epoch: 2\tTrain Loss: 1.787\tValid Loss: 1.410\n",
      "Epoch: 3\tTrain Loss: 1.638\tValid Loss: 1.381\n",
      "Epoch: 4\tTrain Loss: 1.537\tValid Loss: 1.295\n",
      "Epoch: 5\tTrain Loss: 1.467\tValid Loss: 1.224\n",
      "Epoch: 6\tTrain Loss: 1.405\tValid Loss: 1.211\n",
      "Epoch: 7\tTrain Loss: 1.353\tValid Loss: 1.175\n",
      "Epoch: 8\tTrain Loss: 1.308\tValid Loss: 1.132\n",
      "Epoch: 9\tTrain Loss: 1.269\tValid Loss: 1.097\n",
      "Epoch: 10\tTrain Loss: 1.232\tValid Loss: 1.075\n",
      "Epoch: 11\tTrain Loss: 1.203\tValid Loss: 1.056\n",
      "Epoch: 12\tTrain Loss: 1.179\tValid Loss: 1.043\n",
      "Epoch: 13\tTrain Loss: 1.159\tValid Loss: 1.026\n",
      "Epoch: 14\tTrain Loss: 1.140\tValid Loss: 1.005\n",
      "Epoch: 15\tTrain Loss: 1.121\tValid Loss: 0.994\n",
      "Epoch: 16\tTrain Loss: 1.104\tValid Loss: 0.982\n",
      "Epoch: 17\tTrain Loss: 1.086\tValid Loss: 0.969\n",
      "Epoch: 18\tTrain Loss: 1.071\tValid Loss: 0.953\n",
      "Epoch: 19\tTrain Loss: 1.059\tValid Loss: 0.944\n",
      "Epoch: 20\tTrain Loss: 1.049\tValid Loss: 0.936\n",
      "Epoch: 21\tTrain Loss: 1.037\tValid Loss: 0.929\n",
      "Epoch: 22\tTrain Loss: 1.025\tValid Loss: 0.921\n",
      "Epoch: 23\tTrain Loss: 1.015\tValid Loss: 0.919\n",
      "Epoch: 24\tTrain Loss: 1.005\tValid Loss: 0.915\n"
     ]
    }
   ],
   "source": [
    "from nfp.preprocessing import GraphSequence\n",
    "\n",
    "train_sequence = GraphSequence(\n",
    "    train_inputs, tf.convert_to_tensor(train['measured log solubility in mols per litre'], dtype=tf.float32),\n",
    "    shuffle=True, batch_size=5, final_batch=False)\n",
    "\n",
    "valid_sequence = GraphSequence(\n",
    "    valid_inputs, tf.convert_to_tensor(valid['measured log solubility in mols per litre'], dtype=tf.float32),\n",
    "    shuffle=False, batch_size=20, final_batch=True)\n",
    "\n",
    "model = GraphNetwork(preprocessor, atom_dimension=64, num_messages=3)\n",
    "optimizer = tf.keras.optimizers.Adam(learning_rate=1e-3)\n",
    "loss_fn = tf.keras.losses.MeanAbsoluteError()\n",
    "train_loss = tf.keras.metrics.Mean(name='train_loss')\n",
    "valid_loss = tf.keras.metrics.Mean(name='valid_loss')\n",
    "\n",
    "\n",
    "# @tf.function(input_signature=train_step_signature)\n",
    "def train_step(atom, bond, node_indices, connectivity, targets):\n",
    "    with tf.GradientTape() as tape:\n",
    "        predictions = model(atom, bond, node_indices, connectivity, training=True)\n",
    "        loss = loss_fn(predictions, targets)\n",
    "        \n",
    "    gradients = tape.gradient(loss, model.trainable_variables) \n",
    "    optimizer.apply_gradients(zip(gradients, model.trainable_weights))        \n",
    "    train_loss(loss)\n",
    "    \n",
    "    \n",
    "# @tf.function(input_signature=train_step_signature)\n",
    "def valid_step(atom, bond, node_indices, connectivity, targets):\n",
    "    predictions = model(atom, bond, node_indices, connectivity, training=False)\n",
    "    loss = loss_fn(predictions, targets)\n",
    "    valid_loss(loss)\n",
    "\n",
    "    \n",
    "for epoch in range(25):\n",
    "    print(f'Epoch: {epoch}', end='\\t')\n",
    "    for i, (inputs, y) in enumerate(train_sequence):\n",
    "        \n",
    "        with warnings.catch_warnings():\n",
    "            warnings.simplefilter(\"ignore\")\n",
    "            \n",
    "            train_step(inputs['atom'], inputs['bond'],\n",
    "                       inputs['node_graph_indices'], inputs['connectivity'], y)\n",
    "\n",
    "    print(f'Train Loss: {train_loss.result():.3f}', end='\\t')\n",
    "            \n",
    "    for inputs, y in valid_sequence:\n",
    "        valid_step(inputs['atom'], inputs['bond'],\n",
    "                   inputs['node_graph_indices'], inputs['connectivity'], y)        \n",
    "        \n",
    "    print(f'Valid Loss: {valid_loss.result():.3f}')    \n",
    "            \n",
    "    train_sequence.on_epoch_end()\n",
    "    valid_sequence.on_epoch_end()"
   ]
  },
  {
   "cell_type": "code",
   "execution_count": 71,
   "metadata": {},
   "outputs": [
    {
     "name": "stderr",
     "output_type": "stream",
     "text": [
      "100%|██████████| 113/113 [00:00<00:00, 1457.99it/s]\n"
     ]
    }
   ],
   "source": [
    "test_inputs = preprocessor.predict(test.smiles)\n",
    "test_sequence = GraphSequence(test_inputs, shuffle=False, final_batch=True, batch_size=1000)\n",
    "stacked_test_inputs = test_sequence[0]"
   ]
  },
  {
   "cell_type": "code",
   "execution_count": 72,
   "metadata": {},
   "outputs": [],
   "source": [
    "test_predictions = model(stacked_test_inputs['atom'], stacked_test_inputs['bond'], \n",
    "                         stacked_test_inputs['node_graph_indices'],\n",
    "                         stacked_test_inputs['connectivity'], training=False)"
   ]
  },
  {
   "cell_type": "code",
   "execution_count": 73,
   "metadata": {},
   "outputs": [
    {
     "data": {
      "text/plain": [
       "Text(0.5, 1.0, 'Test MAE: 0.982')"
      ]
     },
     "execution_count": 73,
     "metadata": {},
     "output_type": "execute_result"
    },
    {
     "data": {
      "image/png": "[encoded data removed]",
      "text/plain": [
       "<Figure size 432x288 with 1 Axes>"
      ]
     },
     "metadata": {
      "needs_background": "light"
     },
     "output_type": "display_data"
    }
   ],
   "source": [
    "plt.plot(test_predictions.numpy(), test['measured log solubility in mols per litre'], '.')\n",
    "plt.plot([-10, 2], [-10, 2], '--', color='.7')\n",
    "mae = (test_predictions.numpy() - test['measured log solubility in mols per litre']).abs().mean()\n",
    "plt.title(f'Test MAE: {mae:.3f}')"
   ]
  },
  {
   "cell_type": "code",
   "execution_count": 74,
   "metadata": {},
   "outputs": [
    {
     "name": "stdout",
     "output_type": "stream",
     "text": [
      "WARNING:tensorflow:Skipping full serialization of Keras model <__main__.GraphNetwork object at 0x145117ed0>, because its inputs are not defined.\n",
      "WARNING:tensorflow:From /Users/pstjohn/anaconda3/envs/tf2/lib/python3.7/site-packages/tensorflow_core/python/ops/resource_variable_ops.py:1781: calling BaseResourceVariable.__init__ (from tensorflow.python.ops.resource_variable_ops) with constraint is deprecated and will be removed in a future version.\n",
      "Instructions for updating:\n",
      "If using Keras pass *_constraint arguments to layers.\n",
      "INFO:tensorflow:Assets written to: test.tf/assets\n"
     ]
    }
   ],
   "source": [
    "tf.saved_model.save(model, 'test.tf')"
   ]
  },
  {
   "cell_type": "code",
   "execution_count": null,
   "metadata": {},
   "outputs": [],
   "source": []
  }
 ],
 "metadata": {
  "kernelspec": {
   "display_name": "Python 3",
   "language": "python",
   "name": "python3"
  },
  "language_info": {
   "codemirror_mode": {
    "name": "ipython",
    "version": 3
   },
   "file_extension": ".py",
   "mimetype": "text/x-python",
   "name": "python",
   "nbconvert_exporter": "python",
   "pygments_lexer": "ipython3",
   "version": "3.7.4"
  }
 },
 "nbformat": 4,
 "nbformat_minor": 4
}
